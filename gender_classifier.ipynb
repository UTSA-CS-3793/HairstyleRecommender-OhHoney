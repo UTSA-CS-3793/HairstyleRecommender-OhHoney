{
 "cells": [
  {
   "cell_type": "code",
   "execution_count": null,
   "metadata": {
    "colab": {
     "autoexec": {
      "startup": false,
      "wait_interval": 0
     },
     "base_uri": "https://localhost:8080/",
     "height": 105
    },
    "colab_type": "code",
    "executionInfo": {
     "elapsed": 3141,
     "status": "ok",
     "timestamp": 1524875065989,
     "user": {
      "displayName": "Alan Jeanpierre",
      "photoUrl": "//lh3.googleusercontent.com/-TdOBDRYOk0o/AAAAAAAAAAI/AAAAAAAAAGI/FG9kk954IFE/s50-c-k-no/photo.jpg",
      "userId": "116373629385171614732"
     },
     "user_tz": 420
    },
    "id": "xTY6Coo-5u1N",
    "outputId": "639fd6ec-965a-41aa-f7ba-798938163a05"
   },
   "outputs": [],
   "source": [
    "!pip install imageio"
   ]
  },
  {
   "cell_type": "code",
   "execution_count": null,
   "metadata": {
    "colab": {
     "autoexec": {
      "startup": false,
      "wait_interval": 0
     }
    },
    "colab_type": "code",
    "collapsed": true,
    "id": "NHeFMu6--nb4"
   },
   "outputs": [],
   "source": [
    "from __future__ import absolute_import\n",
    "from __future__ import division\n",
    "from __future__ import print_function\n",
    "\n",
    "\n",
    "import numpy as np\n",
    "import scipy\n",
    "import scipy.misc\n",
    "import tensorflow as tf\n",
    "import matplotlib.image as mpimg\n",
    "import matplotlib.pyplot as plt\n",
    "import os\n",
    "import zipfile\n",
    "import requests\n",
    "import imageio\n",
    "from io import BytesIO\n",
    "\n",
    "tf.logging.set_verbosity(tf.logging.INFO)\n",
    "%matplotlib inline"
   ]
  },
  {
   "cell_type": "code",
   "execution_count": null,
   "metadata": {
    "colab": {
     "autoexec": {
      "startup": false,
      "wait_interval": 0
     }
    },
    "colab_type": "code",
    "collapsed": true,
    "id": "XX8UHo_s-ncA"
   },
   "outputs": [],
   "source": [
    "class Face():\n",
    "  \n",
    "  faceshapes = [\n",
    "    'Oblong', 'Square', 'Round',\n",
    "    'Square', 'Oblong', 'Heart', 'Square', 'Square', 'Square', \n",
    "    'Heart', 'Square', 'Round', 'Oblong', 'Heart','Square', 'Heart',\n",
    "    'Square', 'Heart', 'Round','Oblong', 'Heart','Round', 'Oblong', \n",
    "    'Oblong', 'Heart', 'Square', 'Square', 'Oblong',\n",
    "    'Square', 'Round', 'Round', 'Heart', 'Oblong', 'Oblong',\n",
    "    'Square', 'Square', 'Square', 'Square', 'Oblong', 'Square',\n",
    "  ] #why are there so many repeats of each faceshape? Oh wait this is the aggregated answers of the quiz right\n",
    "\n",
    "  faceshape2int = {'Oblong' : 0, 'Square' : 1, 'Round' : 2, 'Heart' : 3} #rip Oval\n",
    "  int2faceshape = {0 : 'Oblong', 1 : 'Square', 2 : 'Round', 3 : 'Heart'}\n",
    "\n",
    "  allfaces = dict()\n",
    "  \n",
    "  \n",
    "  def __init__(self, filename, image, shape):\n",
    "    self.id = int(filename[:2])\n",
    "    self.pose = int(filename[3])\n",
    "    self.gender = filename[4]\n",
    "    self.shape = Face.faceshapes[self.id-1]\n",
    "    self.shapeid = Face.faceshape2int[self.shape]\n",
    "    self.image = image\n",
    "    self.image = scipy.misc.imresize(self.image, 1/8)\n",
    "    self.image = self.image.reshape(self.image.shape[0] * self.image.shape[1])\n",
    "    #self.image = scipy.misc.imresize(mpimg.imread('imm/' + filename + '.jpg'), 1/8)\n",
    "    #self.image = self.image.reshape(self.image.shape[0] * self.image.shape[1])\n",
    "    self.image = self.image.astype(np.float16)\n",
    "    \n",
    "    Face.allfaces[filename] = self\n",
    "    \n",
    "  @classmethod\n",
    "  def get_equal_genders(self, pct):\n",
    "        m = [x for x in self.allfaces.values() if x.gender == 'm']\n",
    "        f = [x for x in self.allfaces.values() if x.gender == 'f']\n",
    "        minlen = len(f)\n",
    "        if len(m) < minlen:\n",
    "            minlen = len(m)\n",
    "        \n",
    "        merged = np.array(m[:minlen] + f[:minlen])\n",
    "        np.random.shuffle(merged)\n",
    "        pct = int(2*minlen*pct)\n",
    "        \n",
    "        data = np.array([x.image for x in merged]).astype(np.float32)\n",
    "        labels = np.array([1 if x.gender == 'm' else 0 for x in merged])\n",
    "        \n",
    "        return (data[:pct], data[pct:]), (labels[:pct], labels[pct:])\n",
    "        \n",
    "  @classmethod\n",
    "  def get_train_test_split(self, pct):\n",
    "    f = np.array([x for x in self.allfaces.values()])\n",
    "    np.random.shuffle(f)\n",
    "    pct = int(f.shape[0] * pct)\n",
    "    \n",
    "    data = np.array([x.image for x in f]).astype(np.float32)\n",
    "    labels = np.array([x.shapeid for x in f]).astype(int)\n",
    "    \n",
    "    return (data[:pct], data[pct:]), (labels[:pct], labels[pct:])\n",
    "    \n",
    "        \n",
    "        \n",
    "        \n",
    "    \n",
    "  \n",
    "  "
   ]
  },
  {
   "cell_type": "code",
   "execution_count": null,
   "metadata": {
    "colab": {
     "autoexec": {
      "startup": false,
      "wait_interval": 0
     }
    },
    "colab_type": "code",
    "collapsed": true,
    "id": "2QcIHnSs-ncE"
   },
   "outputs": [],
   "source": [
    "r = requests.get('http://www.imm.dtu.dk/~aam/datasets/imm_face_db.zip')\n",
    "z = zipfile.ZipFile(BytesIO(r.content))\n",
    "files = {file[:-4] for file in z.namelist() if file.endswith('asf')}"
   ]
  },
  {
   "cell_type": "code",
   "execution_count": null,
   "metadata": {
    "colab": {
     "autoexec": {
      "startup": false,
      "wait_interval": 0
     },
     "base_uri": "https://localhost:8080/",
     "height": 108
    },
    "colab_type": "code",
    "executionInfo": {
     "elapsed": 3810,
     "status": "ok",
     "timestamp": 1524875082143,
     "user": {
      "displayName": "Alan Jeanpierre",
      "photoUrl": "//lh3.googleusercontent.com/-TdOBDRYOk0o/AAAAAAAAAAI/AAAAAAAAAGI/FG9kk954IFE/s50-c-k-no/photo.jpg",
      "userId": "116373629385171614732"
     },
     "user_tz": 420
    },
    "id": "bM-HYJXX-ncK",
    "outputId": "a44869c2-e382-4e83-c0b3-623acc0a5e2b"
   },
   "outputs": [],
   "source": [
    "faces = dict()\n",
    "for file in files:\n",
    "    f = Face(file, imageio.imread(z.extract(file + '.jpg'), pilmode ='F', as_gray=True), Face.faceshapes[int(file[:2])-1])\n",
    "    faces[file] = f"
   ]
  },
  {
   "cell_type": "code",
   "execution_count": null,
   "metadata": {
    "colab": {
     "autoexec": {
      "startup": false,
      "wait_interval": 0
     }
    },
    "colab_type": "code",
    "collapsed": true,
    "id": "HASD_qRE-ncO"
   },
   "outputs": [],
   "source": [
    "(train_data, test_data), (train_labels, test_labels) = Face.get_train_test_split(0.75)"
   ]
  },
  {
   "cell_type": "code",
   "execution_count": null,
   "metadata": {
    "colab": {
     "autoexec": {
      "startup": false,
      "wait_interval": 0
     }
    },
    "colab_type": "code",
    "collapsed": true,
    "id": "sJsZt6iS-ncW"
   },
   "outputs": [],
   "source": [
    "def cnn_model_fn(features, labels, mode):\n",
    "  \"\"\"Model function for CNN.\"\"\"\n",
    "  # Input Layer\n",
    "  input_layer = tf.reshape(features[\"x\"], [-1, 60, 80, 1])\n",
    "\n",
    "  # Convolutional Layer #1\n",
    "  conv1 = tf.layers.conv2d(\n",
    "      inputs=input_layer,\n",
    "      filters=32,\n",
    "      kernel_size=[5, 5],\n",
    "      padding=\"same\",\n",
    "      activation=tf.nn.relu)\n",
    "\n",
    "  # Pooling Layer #1\n",
    "  pool1 = tf.layers.max_pooling2d(inputs=conv1, pool_size=[2, 2], strides=2)\n",
    "\n",
    "  # Convolutional Layer #2 and Pooling Layer #2\n",
    "  conv2 = tf.layers.conv2d(\n",
    "      inputs=pool1,\n",
    "      filters=64,\n",
    "      kernel_size=[5, 5],\n",
    "      padding=\"same\",\n",
    "      activation=tf.nn.relu)\n",
    "  pool2 = tf.layers.max_pooling2d(inputs=conv2, pool_size=[2, 2], strides=2)\n",
    "\n",
    "  # Dense Layer\n",
    "  pool2_flat = tf.reshape(pool2, [-1, 15 * 20 * 64])\n",
    "  dense = tf.layers.dense(inputs=pool2_flat, units=1024, activation=tf.nn.relu)\n",
    "  dropout = tf.layers.dropout(\n",
    "      inputs=dense, rate=0.4, training=mode == tf.estimator.ModeKeys.TRAIN)\n",
    "\n",
    "  # Logits Layer\n",
    "  logits = tf.layers.dense(inputs=dropout, units=4)\n",
    "\n",
    "  predictions = {\n",
    "      # Generate predictions (for PREDICT and EVAL mode)\n",
    "      \"classes\": tf.argmax(input=logits, axis=1),\n",
    "      # Add `softmax_tensor` to the graph. It is used for PREDICT and by the\n",
    "      # `logging_hook`.\n",
    "      \"probabilities\": tf.nn.softmax(logits, name=\"softmax_tensor\")\n",
    "  }\n",
    "\n",
    "  if mode == tf.estimator.ModeKeys.PREDICT:\n",
    "    return tf.estimator.EstimatorSpec(mode=mode, predictions=predictions)\n",
    "\n",
    "  # Calculate Loss (for both TRAIN and EVAL modes)\n",
    "  loss = tf.losses.sparse_softmax_cross_entropy(labels=labels, logits=logits)\n",
    "\n",
    "  # Configure the Training Op (for TRAIN mode)\n",
    "  if mode == tf.estimator.ModeKeys.TRAIN:\n",
    "    optimizer = tf.train.GradientDescentOptimizer(learning_rate=0.001)\n",
    "    train_op = optimizer.minimize(\n",
    "        loss=loss,\n",
    "        global_step=tf.train.get_global_step())\n",
    "    return tf.estimator.EstimatorSpec(mode=mode, loss=loss, train_op=train_op)\n",
    "\n",
    "  # Add evaluation metrics (for EVAL mode)\n",
    "  eval_metric_ops = {\n",
    "      \"accuracy\": tf.metrics.accuracy(\n",
    "          labels=labels, predictions=predictions[\"classes\"])}\n",
    "  return tf.estimator.EstimatorSpec(\n",
    "      mode=mode, loss=loss, eval_metric_ops=eval_metric_ops)"
   ]
  },
  {
   "cell_type": "code",
   "execution_count": null,
   "metadata": {
    "colab": {
     "autoexec": {
      "startup": false,
      "wait_interval": 0
     }
    },
    "colab_type": "code",
    "collapsed": true,
    "id": "vGFH8DpE-nca"
   },
   "outputs": [],
   "source": [
    "eval_data = test_data\n",
    "eval_labels = test_labels"
   ]
  },
  {
   "cell_type": "code",
   "execution_count": null,
   "metadata": {
    "colab": {
     "autoexec": {
      "startup": false,
      "wait_interval": 0
     },
     "base_uri": "https://localhost:8080/",
     "height": 72
    },
    "colab_type": "code",
    "executionInfo": {
     "elapsed": 409,
     "status": "ok",
     "timestamp": 1524875085837,
     "user": {
      "displayName": "Alan Jeanpierre",
      "photoUrl": "//lh3.googleusercontent.com/-TdOBDRYOk0o/AAAAAAAAAAI/AAAAAAAAAGI/FG9kk954IFE/s50-c-k-no/photo.jpg",
      "userId": "116373629385171614732"
     },
     "user_tz": 420
    },
    "id": "hNrSK6fF-ncg",
    "outputId": "fdb3473c-e8a1-4c8e-ff6c-f3b129f20368"
   },
   "outputs": [],
   "source": [
    "gender_classifier = tf.estimator.Estimator(\n",
    "    model_fn=cnn_model_fn,\n",
    "    model_dir='/tmp/facemodel/'\n",
    ")\n",
    "\n",
    "tensors_to_log = {'probabilities': 'softmax_tensor'}\n",
    "logging_hook = tf.train.LoggingTensorHook(\n",
    "    tensors=tensors_to_log, every_n_iter=50\n",
    ")\n",
    "\n",
    "train_input_fn = tf.estimator.inputs.numpy_input_fn(\n",
    "    x={'x' : train_data},\n",
    "    y=train_labels,\n",
    "    batch_size=10,\n",
    "    num_epochs=100,\n",
    "    shuffle=True\n",
    ")\n"
   ]
  },
  {
   "cell_type": "code",
   "execution_count": null,
   "metadata": {
    "colab": {
     "autoexec": {
      "startup": false,
      "wait_interval": 0
     },
     "base_uri": "https://localhost:8080/",
     "height": 4068
    },
    "colab_type": "code",
    "executionInfo": {
     "elapsed": 254653,
     "status": "ok",
     "timestamp": 1524875341073,
     "user": {
      "displayName": "Alan Jeanpierre",
      "photoUrl": "//lh3.googleusercontent.com/-TdOBDRYOk0o/AAAAAAAAAAI/AAAAAAAAAGI/FG9kk954IFE/s50-c-k-no/photo.jpg",
      "userId": "116373629385171614732"
     },
     "user_tz": 420
    },
    "id": "9wU9URT7vYAu",
    "outputId": "bef3f5e3-4982-48c1-f659-4aa57e803b96"
   },
   "outputs": [],
   "source": [
    "# Don't train again, we have a good accuracy >_> <_<\n",
    "#\n",
    "gender_classifier.train(\n",
    "    input_fn=train_input_fn,\n",
    "    steps=1000,\n",
    "    hooks=[logging_hook]\n",
    ")"
   ]
  },
  {
   "cell_type": "code",
   "execution_count": null,
   "metadata": {
    "colab": {
     "autoexec": {
      "startup": false,
      "wait_interval": 0
     },
     "base_uri": "https://localhost:8080/",
     "height": 194
    },
    "colab_type": "code",
    "executionInfo": {
     "elapsed": 1725,
     "status": "ok",
     "timestamp": 1524875342935,
     "user": {
      "displayName": "Alan Jeanpierre",
      "photoUrl": "//lh3.googleusercontent.com/-TdOBDRYOk0o/AAAAAAAAAAI/AAAAAAAAAGI/FG9kk954IFE/s50-c-k-no/photo.jpg",
      "userId": "116373629385171614732"
     },
     "user_tz": 420
    },
    "id": "HF-NngjQ-nco",
    "outputId": "7cd7f469-b5f8-49db-d145-5d754831232b"
   },
   "outputs": [],
   "source": [
    "eval_input_fn = tf.estimator.inputs.numpy_input_fn(\n",
    "    x={'x': eval_data},\n",
    "    y=eval_labels,\n",
    "    num_epochs=1,\n",
    "    shuffle=False\n",
    ")\n",
    "\n",
    "eval_results = gender_classifier.evaluate(input_fn=eval_input_fn)\n",
    "print(eval_results)"
   ]
  },
  {
   "cell_type": "code",
   "execution_count": null,
   "metadata": {
    "colab": {
     "autoexec": {
      "startup": false,
      "wait_interval": 0
     }
    },
    "colab_type": "code",
    "collapsed": true,
    "id": "9vi97jiu-ncu"
   },
   "outputs": [],
   "source": [
    "predict_input_fn = tf.estimator.inputs.numpy_input_fn(\n",
    "    x={'x' : eval_data},\n",
    "    num_epochs=1,\n",
    "    shuffle=False\n",
    ")\n",
    "\n",
    "pred_results = gender_classifier.predict(input_fn=predict_input_fn)"
   ]
  },
  {
   "cell_type": "code",
   "execution_count": null,
   "metadata": {
    "colab": {
     "autoexec": {
      "startup": false,
      "wait_interval": 0
     }
    },
    "colab_type": "code",
    "collapsed": true,
    "id": "cvTCuQk5FGe3"
   },
   "outputs": [],
   "source": [
    "def facedatabase(shape_class):\n",
    "  print('You have a {} shape'.format(Face.int2faceshape[shape_class]))\n",
    "  if shape_class == 0:\n",
    "      print('\\nFor Women: \\n\\t Bob with sideswept bangs, Loose Waves, Layered Hair, Lob')\n",
    "      print('For Men: \\n\\t Let it grow out to about an inch on the top and sides and ask the barber to add some texture to it\\n\\n')\n",
    "  elif shape_class == 1: \n",
    "    print('\\nFor Women: \\n\\t Lob, A Center Part with Long Layers, Pixie, Long Layers')\n",
    "    print('For Men: \\n\\t Go for a short back and side with some length on top, ideally a couple of inches as your hair is likely to stick up. Keep it shorter so you can control it\\n\\n')\n",
    "  elif shape_class == 2:\n",
    "    print('\\nFor Women: \\n\\t Sleek Middle Part, Long Waves, Undercut, Middle Length Lob')\n",
    "    print('For Men: \\n\\t Short back and sides with around 3 to 5 inches of length through to front to create the height needed. Ask your barber for a quiff and get some height with your hairdryer\\n\\n')\n",
    "  elif shape_class == 3:\n",
    "    print('\\nFor Women: \\n\\t Long Picey Bangs, Deep Side Part, Blunt Wispy Bangs, Sleek Crop')\n",
    "    print('For Men: \\n\\t Mid-Length Swept Look, A Beard\\n\\n')"
   ]
  },
  {
   "cell_type": "code",
   "execution_count": null,
   "metadata": {
    "colab": {
     "autoexec": {
      "startup": false,
      "wait_interval": 0
     },
     "base_uri": "https://localhost:8080/",
     "height": 2122
    },
    "colab_type": "code",
    "executionInfo": {
     "elapsed": 1120,
     "status": "ok",
     "timestamp": 1524875346799,
     "user": {
      "displayName": "Alan Jeanpierre",
      "photoUrl": "//lh3.googleusercontent.com/-TdOBDRYOk0o/AAAAAAAAAAI/AAAAAAAAAGI/FG9kk954IFE/s50-c-k-no/photo.jpg",
      "userId": "116373629385171614732"
     },
     "user_tz": 420
    },
    "id": "RrW-Az2s-nc2",
    "outputId": "4cd59679-3e5e-4731-f210-62d4c0f0674c"
   },
   "outputs": [],
   "source": [
    "for p in pred_results:\n",
    "    fa = p['classes']\n",
    "    print(p)"
   ]
  },
  {
   "cell_type": "code",
   "execution_count": null,
   "metadata": {
    "colab": {
     "autoexec": {
      "startup": false,
      "wait_interval": 0
     },
     "base_uri": "https://localhost:8080/",
     "height": 158
    },
    "colab_type": "code",
    "executionInfo": {
     "elapsed": 371,
     "status": "ok",
     "timestamp": 1524875474329,
     "user": {
      "displayName": "Alan Jeanpierre",
      "photoUrl": "//lh3.googleusercontent.com/-TdOBDRYOk0o/AAAAAAAAAAI/AAAAAAAAAGI/FG9kk954IFE/s50-c-k-no/photo.jpg",
      "userId": "116373629385171614732"
     },
     "user_tz": 420
    },
    "id": "CfjpqOgc0Cvd",
    "outputId": "4ad5c3fe-2c6a-4786-b0ef-f977c4cfcdae"
   },
   "outputs": [],
   "source": [
    "facedatabase(0)"
   ]
  },
  {
   "cell_type": "code",
   "execution_count": null,
   "metadata": {
    "colab": {
     "autoexec": {
      "startup": false,
      "wait_interval": 0
     }
    },
    "colab_type": "code",
    "collapsed": true,
    "id": "8A0Pgv_-qGkW"
   },
   "outputs": [],
   "source": []
  }
 ],
 "metadata": {
  "colab": {
   "collapsed_sections": [],
   "default_view": {},
   "name": "gender_classifier.ipynb",
   "provenance": [],
   "version": "0.3.2",
   "views": {}
  },
  "kernelspec": {
   "display_name": "Python 3",
   "language": "python",
   "name": "python3"
  },
  "language_info": {
   "codemirror_mode": {
    "name": "ipython",
    "version": 3
   },
   "file_extension": ".py",
   "mimetype": "text/x-python",
   "name": "python",
   "nbconvert_exporter": "python",
   "pygments_lexer": "ipython3",
   "version": "3.6.1"
  }
 },
 "nbformat": 4,
 "nbformat_minor": 1
}
